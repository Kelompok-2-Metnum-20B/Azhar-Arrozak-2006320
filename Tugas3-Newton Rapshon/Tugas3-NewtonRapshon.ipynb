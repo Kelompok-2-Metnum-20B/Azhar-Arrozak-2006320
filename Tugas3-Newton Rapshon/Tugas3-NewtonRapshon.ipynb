{
  "nbformat": 4,
  "nbformat_minor": 0,
  "metadata": {
    "colab": {
      "provenance": []
    },
    "kernelspec": {
      "name": "python3",
      "display_name": "Python 3"
    },
    "language_info": {
      "name": "python"
    }
  },
  "cells": [
    {
      "cell_type": "code",
      "source": [
        "def newtons(f,df,x0):\n",
        "  e = 0.0001\n",
        "  N = 10\n",
        "  for i in range (0,N):\n",
        "    print(\"%d   | %f    | %f    \" %(i,x0,f(x0)))\n",
        "    if abs(f(x0)) < e:\n",
        "      return x0,i\n",
        "    if df(x0) == 0:\n",
        "      print(\"Hasil turunan nol\")\n",
        "      return None\n",
        "    x0 = x0 - f(x0)/df(x0)\n",
        "  print(\"Iterasi Terpenuhi\")\n",
        "  return x0, i\n",
        "\n",
        "f  = lambda x: x**2 - 2*x - 8\n",
        "df = lambda x: 2*x - 2\n",
        "x0 = 3.75\n",
        "\n",
        "x_root, iteration = newtons(f,df,x0)\n",
        "print('Hasil: ', round(x_root,3))\n",
        "print('Selesai pada iterasi ke-%d' %iteration)"
      ],
      "metadata": {
        "colab": {
          "base_uri": "https://localhost:8080/"
        },
        "id": "QHb6sr6zn-_y",
        "outputId": "246fe7b5-7fd3-4c1a-bced-840b7b589958"
      },
      "execution_count": 6,
      "outputs": [
        {
          "output_type": "stream",
          "name": "stdout",
          "text": [
            "0   | 3.750000    | -1.437500    \n",
            "1   | 4.011364    | 0.068311    \n",
            "2   | 4.000021    | 0.000129    \n",
            "3   | 4.000000    | 0.000000    \n",
            "Hasil:  4.0\n",
            "Selesai pada iterasi ke-3\n"
          ]
        }
      ]
    }
  ]
}