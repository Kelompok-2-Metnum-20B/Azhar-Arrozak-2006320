{
  "nbformat": 4,
  "nbformat_minor": 0,
  "metadata": {
    "colab": {
      "provenance": []
    },
    "kernelspec": {
      "name": "python3",
      "display_name": "Python 3"
    },
    "language_info": {
      "name": "python"
    }
  },
  "cells": [
    {
      "cell_type": "markdown",
      "source": [
        "## **Akar Persamaan Non-Linier**\n",
        "Berikut ini merupakan fungsi dasar dari metode yang dapat digunakan untuk mencari akar Persamaan non-Linier"
      ],
      "metadata": {
        "id": "Tlb0XvJxS_oW"
      }
    },
    {
      "cell_type": "markdown",
      "source": [
        "**Pencarian Akar dengan Library**\n",
        "\n",
        "Contoh Fungsi: f(x) = cos(x)-x"
      ],
      "metadata": {
        "id": "8zXDT3F6UTm8"
      }
    },
    {
      "cell_type": "code",
      "source": [
        "import numpy as np\n",
        "from scipy import optimize\n",
        "f = lambda x: np.cos(x) - x\n",
        "r = optimize.fsolve(f, -2)\n",
        "print(\"r =\",r)\n",
        "# Verify the solution is a root\n",
        "result = f(r)\n",
        "print(\"result=\", result)"
      ],
      "metadata": {
        "colab": {
          "base_uri": "https://localhost:8080/"
        },
        "id": "gMnlEqjjUnAa",
        "outputId": "dba31922-a0e9-40d4-b136-dad342f9b7fa"
      },
      "execution_count": null,
      "outputs": [
        {
          "output_type": "stream",
          "name": "stdout",
          "text": [
            "r = [0.73908513]\n",
            "result= [0.]\n"
          ]
        }
      ]
    },
    {
      "cell_type": "markdown",
      "source": [
        "**Metode Bagi Dua**"
      ],
      "metadata": {
        "id": "ySxrsdzGTn0Z"
      }
    },
    {
      "cell_type": "code",
      "execution_count": null,
      "metadata": {
        "id": "j7lAxfNeS9M0"
      },
      "outputs": [],
      "source": [
        "import numpy as np #panggil library\n",
        "def my_bisection(f, a, b, e):\n",
        "  if np.sign(f(a)) == np.sign(f(b)):\n",
        "    raise Exception('Tidak ada akar pada interval a dan b')\n",
        "  m = (a + b)/2\n",
        "  if np.abs(f(m)) < e:\n",
        "    return m\n",
        "  elif np.sign(f(a)) == np.sign(f(m)):\n",
        "    return my_bisection(f, m, b, e)\n",
        "  elif np.sign(f(b)) == np.sign(f(m)):\n",
        "    return my_bisection(f, a, m, e)"
      ]
    },
    {
      "cell_type": "markdown",
      "source": [
        "**Contoh Pencarian Akar dengan Metode Bagi Dua**\n",
        "\n",
        "f(x)=x^2 - 2"
      ],
      "metadata": {
        "id": "QK5X5eINXZln"
      }
    },
    {
      "cell_type": "code",
      "source": [
        "import numpy as np #panggil library\n",
        "f = lambda x: x**2-2\n",
        "\n",
        "r1 = my_bisection(f, 0, 2, 0.1)\n",
        "print(\"r1 =\", r1)\n",
        "print(\"f(r1) =\", f(r1))\n",
        "\n",
        "r01 = my_bisection(f, 0, 2, 0.01)\n",
        "print(\"r01 =\", r01)\n",
        "print(\"f(r01) =\", f(r01))"
      ],
      "metadata": {
        "colab": {
          "base_uri": "https://localhost:8080/"
        },
        "id": "eJr_l7e2XyM0",
        "outputId": "9f0a0bf6-a59a-4ae7-fc1c-e4c436d940ea"
      },
      "execution_count": null,
      "outputs": [
        {
          "output_type": "stream",
          "name": "stdout",
          "text": [
            "r1 = 1.4375\n",
            "f(r1) = 0.06640625\n",
            "r01 = 1.4140625\n",
            "f(r01) = -0.00042724609375\n"
          ]
        }
      ]
    },
    {
      "cell_type": "code",
      "source": [
        "import numpy as np #panggil library\n",
        "f = lambda x: x**2-2\n",
        "my_bisection(f, 2, 4, 0.01)"
      ],
      "metadata": {
        "colab": {
          "base_uri": "https://localhost:8080/",
          "height": 322
        },
        "id": "wXEmWDL3Yh1R",
        "outputId": "66a66430-8175-4210-f0f5-180d79f1eb76"
      },
      "execution_count": null,
      "outputs": [
        {
          "output_type": "error",
          "ename": "Exception",
          "evalue": "ignored",
          "traceback": [
            "\u001b[0;31m---------------------------------------------------------------------------\u001b[0m",
            "\u001b[0;31mException\u001b[0m                                 Traceback (most recent call last)",
            "\u001b[0;32m<ipython-input-13-9db7d48a44ca>\u001b[0m in \u001b[0;36m<module>\u001b[0;34m\u001b[0m\n\u001b[1;32m      1\u001b[0m \u001b[0;32mimport\u001b[0m \u001b[0mnumpy\u001b[0m \u001b[0;32mas\u001b[0m \u001b[0mnp\u001b[0m \u001b[0;31m#panggil library\u001b[0m\u001b[0;34m\u001b[0m\u001b[0;34m\u001b[0m\u001b[0m\n\u001b[1;32m      2\u001b[0m \u001b[0mf\u001b[0m \u001b[0;34m=\u001b[0m \u001b[0;32mlambda\u001b[0m \u001b[0mx\u001b[0m\u001b[0;34m:\u001b[0m \u001b[0mx\u001b[0m\u001b[0;34m**\u001b[0m\u001b[0;36m2\u001b[0m\u001b[0;34m-\u001b[0m\u001b[0;36m2\u001b[0m\u001b[0;34m\u001b[0m\u001b[0;34m\u001b[0m\u001b[0m\n\u001b[0;32m----> 3\u001b[0;31m \u001b[0mmy_bisection\u001b[0m\u001b[0;34m(\u001b[0m\u001b[0mf\u001b[0m\u001b[0;34m,\u001b[0m \u001b[0;36m2\u001b[0m\u001b[0;34m,\u001b[0m \u001b[0;36m4\u001b[0m\u001b[0;34m,\u001b[0m \u001b[0;36m0.01\u001b[0m\u001b[0;34m)\u001b[0m\u001b[0;34m\u001b[0m\u001b[0;34m\u001b[0m\u001b[0m\n\u001b[0m",
            "\u001b[0;32m<ipython-input-11-232ee789a6b2>\u001b[0m in \u001b[0;36mmy_bisection\u001b[0;34m(f, a, b, e)\u001b[0m\n\u001b[1;32m      2\u001b[0m \u001b[0;32mdef\u001b[0m \u001b[0mmy_bisection\u001b[0m\u001b[0;34m(\u001b[0m\u001b[0mf\u001b[0m\u001b[0;34m,\u001b[0m \u001b[0ma\u001b[0m\u001b[0;34m,\u001b[0m \u001b[0mb\u001b[0m\u001b[0;34m,\u001b[0m \u001b[0me\u001b[0m\u001b[0;34m)\u001b[0m\u001b[0;34m:\u001b[0m\u001b[0;34m\u001b[0m\u001b[0;34m\u001b[0m\u001b[0m\n\u001b[1;32m      3\u001b[0m   \u001b[0;32mif\u001b[0m \u001b[0mnp\u001b[0m\u001b[0;34m.\u001b[0m\u001b[0msign\u001b[0m\u001b[0;34m(\u001b[0m\u001b[0mf\u001b[0m\u001b[0;34m(\u001b[0m\u001b[0ma\u001b[0m\u001b[0;34m)\u001b[0m\u001b[0;34m)\u001b[0m \u001b[0;34m==\u001b[0m \u001b[0mnp\u001b[0m\u001b[0;34m.\u001b[0m\u001b[0msign\u001b[0m\u001b[0;34m(\u001b[0m\u001b[0mf\u001b[0m\u001b[0;34m(\u001b[0m\u001b[0mb\u001b[0m\u001b[0;34m)\u001b[0m\u001b[0;34m)\u001b[0m\u001b[0;34m:\u001b[0m\u001b[0;34m\u001b[0m\u001b[0;34m\u001b[0m\u001b[0m\n\u001b[0;32m----> 4\u001b[0;31m     \u001b[0;32mraise\u001b[0m \u001b[0mException\u001b[0m\u001b[0;34m(\u001b[0m\u001b[0;34m'Tidak ada akar pada interval a dan b'\u001b[0m\u001b[0;34m)\u001b[0m\u001b[0;34m\u001b[0m\u001b[0;34m\u001b[0m\u001b[0m\n\u001b[0m\u001b[1;32m      5\u001b[0m   \u001b[0mm\u001b[0m \u001b[0;34m=\u001b[0m \u001b[0;34m(\u001b[0m\u001b[0ma\u001b[0m \u001b[0;34m+\u001b[0m \u001b[0mb\u001b[0m\u001b[0;34m)\u001b[0m\u001b[0;34m/\u001b[0m\u001b[0;36m2\u001b[0m\u001b[0;34m\u001b[0m\u001b[0;34m\u001b[0m\u001b[0m\n\u001b[1;32m      6\u001b[0m   \u001b[0;32mif\u001b[0m \u001b[0mnp\u001b[0m\u001b[0;34m.\u001b[0m\u001b[0mabs\u001b[0m\u001b[0;34m(\u001b[0m\u001b[0mf\u001b[0m\u001b[0;34m(\u001b[0m\u001b[0mm\u001b[0m\u001b[0;34m)\u001b[0m\u001b[0;34m)\u001b[0m \u001b[0;34m<\u001b[0m \u001b[0me\u001b[0m\u001b[0;34m:\u001b[0m\u001b[0;34m\u001b[0m\u001b[0;34m\u001b[0m\u001b[0m\n",
            "\u001b[0;31mException\u001b[0m: Tidak ada akar pada interval a dan b"
          ]
        }
      ]
    },
    {
      "cell_type": "markdown",
      "source": [
        "**Metode Newton-Raphson**"
      ],
      "metadata": {
        "id": "uqd3qNtxS939"
      }
    },
    {
      "cell_type": "code",
      "source": [
        "import numpy as np #panggil library\n",
        "def my_newton(f, df, x0, e):\n",
        "# output is an estimation of the root of f\n",
        "# using the Newton-Raphson method\n",
        "# recursive implementation\n",
        "  if abs(f(x0)) < e:\n",
        "    return x0\n",
        "  else:\n",
        "    return my_newton(f, df, x0 - f(x0)/df(x0), e)"
      ],
      "metadata": {
        "id": "NWM7-9tpVr0a"
      },
      "execution_count": null,
      "outputs": []
    },
    {
      "cell_type": "markdown",
      "source": [
        "**Contoh Pencarian Akar dengan Metode Bagi Dua**\n",
        "\n",
        "f(x)=x^2 - 2"
      ],
      "metadata": {
        "id": "ffztAnc9ZbtI"
      }
    },
    {
      "cell_type": "code",
      "source": [
        "f = lambda x: x**2-2\n",
        "f_prime = lambda x: 2*x\n",
        "estimate = my_newton(f, f_prime, 1.5, 1e-6)\n",
        "print(\"estimate =\", estimate)\n",
        "print(\"sqrt(2) =\",np.sqrt(2))"
      ],
      "metadata": {
        "colab": {
          "base_uri": "https://localhost:8080/"
        },
        "id": "zFJnxIytZhln",
        "outputId": "e6d71caf-ed8a-4bd9-8946-7e39709d49c1"
      },
      "execution_count": null,
      "outputs": [
        {
          "output_type": "stream",
          "name": "stdout",
          "text": [
            "estimate = 1.4142135623746899\n",
            "sqrt(2) = 1.4142135623730951\n"
          ]
        }
      ]
    },
    {
      "cell_type": "markdown",
      "source": [
        "# **Latihan**"
      ],
      "metadata": {
        "id": "_l79MbNaaO9N"
      }
    },
    {
      "cell_type": "markdown",
      "source": [
        "**No 1**\n",
        "\n",
        "Buatlah sebuah fungsi penyelesaian yang tepat baik dengan menggunakan metode Bagi Dua maupun Newton Raphson ketika \n",
        "\n",
        "a. f(x) = x^3 - 2x + 1\n",
        "\n",
        "b. f(x) = e^x - x"
      ],
      "metadata": {
        "id": "XX6f9MQOaTas"
      }
    },
    {
      "cell_type": "code",
      "source": [
        "def bisection(f, a, b, e=0.0001, N = 10):\n",
        "  x_a = a\n",
        "  x_b = b\n",
        "  \n",
        "  if f(x_a)*f(x_b) >= 0:\n",
        "    print(\"Use another guess range\")\n",
        "    return None\n",
        "  \n",
        "  for n in range (1,N):\n",
        "    x_m = (x_a + x_b)/2\n",
        "    print('|f(x_m)| = ',abs(f(x_m)))\n",
        "    if abs(f(x_m)) < e:\n",
        "      return (x_m)\n",
        "    else:\n",
        "      if f(x_a)*f(x_m) < 0:\n",
        "        x_b = x_m\n",
        "      elif f(x_b)*f(x_m) < 0:\n",
        "        x_a = x_m\n",
        "  return (x_m)\n",
        "\n",
        "f = lambda x: x**3-2*x+1\n",
        "a = 2.3\n",
        "b = 2.2\n",
        "\n",
        "x_root = bisection(f,a,b)\n",
        "print(x_root)"
      ],
      "metadata": {
        "colab": {
          "base_uri": "https://localhost:8080/"
        },
        "id": "XOwf8MKqyPIV",
        "outputId": "7750b06b-044f-42cb-a784-2297f230fdef"
      },
      "execution_count": 7,
      "outputs": [
        {
          "output_type": "stream",
          "name": "stdout",
          "text": [
            "Use another guess range\n",
            "None\n"
          ]
        }
      ]
    },
    {
      "cell_type": "markdown",
      "source": [
        "**No 2**\n",
        "\n",
        "Buatlah modifikasi fungsi ketika kriteria program berhenti adalah sudah mencapai pada iterasi ke-n baik untuk Bagi Dua maupun Newton Raphson"
      ],
      "metadata": {
        "id": "iE7sR5M4yUAy"
      }
    },
    {
      "cell_type": "code",
      "source": [
        "#Modifikasi Metode Bagi Dua  \n",
        "def bisection(x0, x1, e):\n",
        "    step = 1\n",
        "    print('Metode Bagi Dua')\n",
        "    condition = True\n",
        "    while condition:\n",
        "        x2 = (x0 + x1)/2\n",
        "        print('Iterasi ke-%d, x2 = %0.3f dan f(x2) = %0.3f' % (step, x2, f(x2)))\n",
        "\n",
        "        if f(x0) * f(x2) < 0:\n",
        "            x1 = x2\n",
        "        else:\n",
        "            x0 = x2\n",
        "        \n",
        "        step = step + 1\n",
        "        condition = (abs(f(x2)) > e)and(step<=8)\n",
        "\n",
        "    print('\\nAkarnya: %0.3f' % x2)\n",
        "\n",
        "def f(x):\n",
        "    return x**3-5*x-9\n",
        "\n",
        "x0 = 2\n",
        "x1 = 3\n",
        "e = 0.0001\n",
        "    \n",
        "if f(x0) * f(x1) > 0.0:\n",
        "    print('Akar tidak ditemukan.')\n",
        "else:\n",
        "    bisection(x0,x1,e)"
      ],
      "metadata": {
        "id": "MjocESJra-b5",
        "colab": {
          "base_uri": "https://localhost:8080/"
        },
        "outputId": "df970132-9bd7-4de8-fe29-279ed3f5da23"
      },
      "execution_count": 4,
      "outputs": [
        {
          "output_type": "stream",
          "name": "stdout",
          "text": [
            "Metode Bagi Dua\n",
            "Iterasi ke-1, x2 = 2.500 dan f(x2) = -5.875\n",
            "Iterasi ke-2, x2 = 2.750 dan f(x2) = -1.953\n",
            "Iterasi ke-3, x2 = 2.875 dan f(x2) = 0.389\n",
            "Iterasi ke-4, x2 = 2.812 dan f(x2) = -0.815\n",
            "Iterasi ke-5, x2 = 2.844 dan f(x2) = -0.222\n",
            "Iterasi ke-6, x2 = 2.859 dan f(x2) = 0.081\n",
            "Iterasi ke-7, x2 = 2.852 dan f(x2) = -0.071\n",
            "Iterasi ke-8, x2 = 2.855 dan f(x2) = 0.005\n",
            "\n",
            "Akarnya: 2.855\n"
          ]
        }
      ]
    },
    {
      "cell_type": "code",
      "source": [
        "#Modifikasi Newton Rapshon\n",
        "def newtons(f,df,x0):\n",
        "  e = 0.0001\n",
        "  N = 10\n",
        "  for i in range (0,N):\n",
        "    print(\"%d   | %f    | %f    \" %(i,x0,f(x0)))\n",
        "    if abs(f(x0)) < e:\n",
        "      return x0,i\n",
        "    if df(x0) == 0:\n",
        "      print(\"Hasil turunan nol\")\n",
        "      return None\n",
        "    x0 = x0 - f(x0)/df(x0)\n",
        "  print(\"Iterasi Terpenuhi\")\n",
        "  return x0, i\n",
        "\n",
        "f  = lambda x: x**2 - 2*x - 8\n",
        "df = lambda x: 2*x - 2\n",
        "x0 = 2\n",
        "\n",
        "x_root, iteration = newtons(f,df,x0)\n",
        "print('Hasil: ', round(x_root,3))\n",
        "print('Selesai pada iterasi ke-%d' %iteration)"
      ],
      "metadata": {
        "colab": {
          "base_uri": "https://localhost:8080/"
        },
        "id": "EW3F8jg5kyMY",
        "outputId": "aa1fe4ed-4b67-4f9e-a9e8-2629e3d8755a"
      },
      "execution_count": 3,
      "outputs": [
        {
          "output_type": "stream",
          "name": "stdout",
          "text": [
            "0   | 2.000000    | -8.000000    \n",
            "1   | 6.000000    | 16.000000    \n",
            "2   | 4.400000    | 2.560000    \n",
            "3   | 4.023529    | 0.141730    \n",
            "4   | 4.000092    | 0.000549    \n",
            "5   | 4.000000    | 0.000000    \n",
            "Hasil:  4.0\n",
            "Selesai pada iterasi ke-5\n"
          ]
        }
      ]
    }
  ]
}